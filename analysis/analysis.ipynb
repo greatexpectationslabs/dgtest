{
 "cells": [
  {
   "cell_type": "markdown",
   "id": "e989ccba",
   "metadata": {},
   "source": [
    "# Dependency Graph Test Strategy Analysis\n",
    "\n",
    "The following notebook analyzes test results from the experimental `dependency_graph` Azure pipeline. \n",
    "\n",
    "Using `script.py`, I've gone ahead and accessed the Azure API to retrieve all logs and parse any relevant details. These results are saved to `azure_runs.csv` and are analyzed in the below cells. \n",
    "\n",
    "Some minor details to note:\n",
    "* The starting date for this experiment is 12/13/2021 and should cover all data up until the current date.\n",
    "* I've only set up a few stages in the experimental pipeline (no usage stats and isolated to just 3.8). This was to ensure that we didn't use up too many resources and adversely impact developers.\n",
    "* There have only been 2 deviations - any descrepancies have been manually reviewed and can be `deviations.csv`.\n",
    "* The `test_cli` stage is conditionally run based on the other stages; as such, it will run less often than the rest of the pipeline.\n",
    "* The `depth` argument is set at `3`. I think there's a noticable drop in coverage when you go down to `2` and I'm not sure `4` is necessary since we've been able to mirror the results of the primary pipeline.\n",
    "\n",
    "---\n",
    "\n",
    "**Conclusion**: I think this test was a success. The sample size is quite small but the fact that the dependency graph test strategy always aligned with our current strategy shows that we can test a subset of our suite without sacrificing accuracy or coverage. \n",
    "\n",
    "**Next Steps**:\n",
    "* Gather a bit more data\n",
    "* Move this logic to a separate repo/package\n",
    "* Add tests\n",
    "* Set up automated full-suite runs and Slack notifications"
   ]
  },
  {
   "cell_type": "code",
   "execution_count": 1,
   "id": "c47c15c3",
   "metadata": {},
   "outputs": [],
   "source": [
    "# 1. Clean data\n",
    "\n",
    "with open(\"azure_runs.csv\", 'r') as f:\n",
    "    contents = f.readlines()\n",
    "\n",
    "test_maps = []\n",
    "for line in contents:\n",
    "    parts = line.split(\", \")\n",
    "    success = parts[4]\n",
    "    tests = parts[6:]\n",
    "    \n",
    "    test_map = {}\n",
    "    for test in tests:\n",
    "        name, count = test.strip().split(\" | \")\n",
    "        count = int(count)\n",
    "        test_map[name] = count\n",
    "\n",
    "    if sum(val for val in test_map.values()) == 0:\n",
    "        continue\n",
    "\n",
    "    test_maps.append((success, test_map))"
   ]
  },
  {
   "cell_type": "code",
   "execution_count": 2,
   "id": "97305882",
   "metadata": {},
   "outputs": [],
   "source": [
    "# 2. Define helper function\n",
    "\n",
    "import statistics\n",
    "import matplotlib.pyplot as plt\n",
    "import numpy as np\n",
    "from matplotlib.ticker import PercentFormatter\n",
    "\n",
    "def determine_stats_for_pipeline_stage(stage: str, ge_count: int, conditional: bool = False) -> None:\n",
    "    res = []\n",
    "    for success, run in test_maps:\n",
    "        count = run[stage]\n",
    "        if conditional:\n",
    "            if success == \"succeeded\" or count > 0:\n",
    "                res.append(run[stage])\n",
    "        else:\n",
    "            res.append(run[stage])\n",
    "\n",
    "    mean = statistics.mean(res)\n",
    "    median = statistics.median(res)\n",
    "    mode = statistics.mode(res)\n",
    "    \n",
    "    print(f\"{stage} ({len(res)} runs):\")\n",
    "    print(f\"  Mean: 'dependency_graph': {mean:.2f} | 'great_expectations': {ge_count}\")\n",
    "    print(f\"  Median: 'dependency_graph': {median:.2f} | 'great_expectations': {ge_count}\")\n",
    "    print(f\"  Mode: 'dependency_graph': {mode:.2f} | 'great_expectations': {ge_count}\\n\")\n",
    "\n",
    "    plt.hist(res, bins=30, weights=np.ones(len(res)) / len(res))\n",
    "    plt.ylabel('Percentage')\n",
    "    plt.xlabel('Test Count');\n",
    "    plt.axvline(ge_count, color='r', linewidth=3)\n",
    "    plt.gca().yaxis.set_major_formatter(PercentFormatter(1))"
   ]
  },
  {
   "cell_type": "code",
   "execution_count": 3,
   "id": "4bd758dc",
   "metadata": {},
   "outputs": [
    {
     "name": "stdout",
     "output_type": "stream",
     "text": [
      "compatibility_matrix Python38-PandasLatest (156 runs):\n",
      "  Mean: 'dependency_graph': 1562.60 | 'great_expectations': 2721\n",
      "  Median: 'dependency_graph': 2235.00 | 'great_expectations': 2721\n",
      "  Mode: 'dependency_graph': 55.00 | 'great_expectations': 2721\n",
      "\n"
     ]
    },
    {
     "data": {
      "image/png": "[encoded data removed]",
      "text/plain": [
       "<Figure size 432x288 with 1 Axes>"
      ]
     },
     "metadata": {
      "needs_background": "light"
     },
     "output_type": "display_data"
    }
   ],
   "source": [
    "# 3a. Results - compatibility_matrix Python38-PandasLatest\n",
    "\n",
    "determine_stats_for_pipeline_stage('compatibility_matrix Python38-PandasLatest', 2721)"
   ]
  },
  {
   "cell_type": "code",
   "execution_count": 4,
   "id": "be02638b",
   "metadata": {},
   "outputs": [
    {
     "name": "stdout",
     "output_type": "stream",
     "text": [
      "comprehensive Python38 (156 runs):\n",
      "  Mean: 'dependency_graph': 3617.76 | 'great_expectations': 5963\n",
      "  Median: 'dependency_graph': 5382.00 | 'great_expectations': 5963\n",
      "  Mode: 'dependency_graph': 55.00 | 'great_expectations': 5963\n",
      "\n"
     ]
    },
    {
     "data": {
      "image/png": "[encoded data removed]",
      "text/plain": [
       "<Figure size 432x288 with 1 Axes>"
      ]
     },
     "metadata": {
      "needs_background": "light"
     },
     "output_type": "display_data"
    }
   ],
   "source": [
    "# 3b. Results - comprehensive Python38\n",
    "\n",
    "determine_stats_for_pipeline_stage('comprehensive Python38', 5963)"
   ]
  },
  {
   "cell_type": "code",
   "execution_count": 5,
   "id": "a2b50589",
   "metadata": {},
   "outputs": [
    {
     "name": "stdout",
     "output_type": "stream",
     "text": [
      "mysql (156 runs):\n",
      "  Mean: 'dependency_graph': 2976.95 | 'great_expectations': 4956\n",
      "  Median: 'dependency_graph': 4394.50 | 'great_expectations': 4956\n",
      "  Mode: 'dependency_graph': 55.00 | 'great_expectations': 4956\n",
      "\n"
     ]
    },
    {
     "data": {
      "image/png": "[encoded data removed]",
      "text/plain": [
       "<Figure size 432x288 with 1 Axes>"
      ]
     },
     "metadata": {
      "needs_background": "light"
     },
     "output_type": "display_data"
    }
   ],
   "source": [
    "# 3c. Results - mysql (mssql is identical so we only count one to be efficient)\n",
    "\n",
    "determine_stats_for_pipeline_stage('mysql', 4956)"
   ]
  },
  {
   "cell_type": "code",
   "execution_count": 6,
   "id": "4fd206d7",
   "metadata": {
    "scrolled": true
   },
   "outputs": [
    {
     "name": "stdout",
     "output_type": "stream",
     "text": [
      "test_cli (119 runs):\n",
      "  Mean: 'dependency_graph': 275.31 | 'great_expectations': 451\n",
      "  Median: 'dependency_graph': 444.00 | 'great_expectations': 451\n",
      "  Mode: 'dependency_graph': 0.00 | 'great_expectations': 451\n",
      "\n"
     ]
    },
    {
     "data": {
      "image/png": "[encoded data removed]",
      "text/plain": [
       "<Figure size 432x288 with 1 Axes>"
      ]
     },
     "metadata": {
      "needs_background": "light"
     },
     "output_type": "display_data"
    }
   ],
   "source": [
    "# 3d. Results - test_cli\n",
    "\n",
    "# We only count instances where this stage is active (hence the reduced number of runs)\n",
    "determine_stats_for_pipeline_stage('test_cli', 451, conditional=True)"
   ]
  },
  {
   "cell_type": "code",
   "execution_count": 7,
   "id": "91857b8b",
   "metadata": {},
   "outputs": [
    {
     "name": "stdout",
     "output_type": "stream",
     "text": [
      "All stages (156 runs):\n",
      "  Mean: 'dependency_graph': 8367.32 | 'great_expectations': 13984.03\n",
      "  Median: 'dependency_graph': 12272.00 | 'great_expectations': 14091.00\n",
      "  Mode: 'dependency_graph': 165.00 | 'great_expectations': 14091.00\n"
     ]
    },
    {
     "data": {
      "image/png": "[encoded data removed]",
      "text/plain": [
       "<Figure size 432x288 with 1 Axes>"
      ]
     },
     "metadata": {
      "needs_background": "light"
     },
     "output_type": "display_data"
    }
   ],
   "source": [
    "# 3d. Results - All stages\n",
    "\n",
    "dependency_graph = []\n",
    "great_expectations = []\n",
    "for success, run in test_maps:\n",
    "    dg_count = sum(run.values())\n",
    "    \n",
    "    ge_count = 2721 + 5963 + 4956\n",
    "    if success == \"succeeded\" or run[\"test_cli\"] > 0:\n",
    "        ge_count += 451\n",
    "        \n",
    "    dependency_graph.append(dg_count)\n",
    "    great_expectations.append(ge_count)\n",
    "\n",
    "dg_mean = statistics.mean(dependency_graph)\n",
    "dg_median = statistics.median(dependency_graph)\n",
    "dg_mode = statistics.mode(dependency_graph)\n",
    "\n",
    "ge_mean = statistics.mean(great_expectations)\n",
    "ge_median = statistics.median(great_expectations)\n",
    "ge_mode = statistics.mode(great_expectations)\n",
    "\n",
    "print(f\"All stages ({len(dependency_graph)} runs):\")\n",
    "print(f\"  Mean: 'dependency_graph': {dg_mean:.2f} | 'great_expectations': {ge_mean:.2f}\")\n",
    "print(f\"  Median: 'dependency_graph': {dg_median:.2f} | 'great_expectations': {ge_median:.2f}\")\n",
    "print(f\"  Mode: 'dependency_graph': {dg_mode:.2f} | 'great_expectations': {ge_mode:.2f}\")\n",
    "\n",
    "plt.hist(dependency_graph, bins=30, weights=np.ones(len(dependency_graph)) / len(dependency_graph))\n",
    "plt.ylabel('Percentage')\n",
    "plt.xlabel('Test Count');\n",
    "plt.axvline(ge_mean, color='r', linewidth=3)\n",
    "plt.gca().yaxis.set_major_formatter(PercentFormatter(1))"
   ]
  },
  {
   "cell_type": "code",
   "execution_count": null,
   "id": "2eeb7050",
   "metadata": {},
   "outputs": [],
   "source": []
  },
  {
   "cell_type": "code",
   "execution_count": null,
   "id": "8a86f69b",
   "metadata": {},
   "outputs": [],
   "source": []
  }
 ],
 "metadata": {
  "kernelspec": {
   "display_name": "Python 3 (ipykernel)",
   "language": "python",
   "name": "python3"
  },
  "language_info": {
   "codemirror_mode": {
    "name": "ipython",
    "version": 3
   },
   "file_extension": ".py",
   "mimetype": "text/x-python",
   "name": "python",
   "nbconvert_exporter": "python",
   "pygments_lexer": "ipython3",
   "version": "3.8.10"
  }
 },
 "nbformat": 4,
 "nbformat_minor": 5
}
